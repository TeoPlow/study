{
 "cells": [
  {
   "cell_type": "markdown",
   "id": "ec6e7d18-6a6e-4a51-a7cd-0a1152604973",
   "metadata": {},
   "source": [
    "## Лабораторная работа №1 | Вариант 6"
   ]
  },
  {
   "cell_type": "markdown",
   "id": "277877ce-f982-4711-a6a6-2a4a90871409",
   "metadata": {},
   "source": [
    "Выполнил: Мамонтов Егор Олегович М8О-312Б-22"
   ]
  },
  {
   "cell_type": "markdown",
   "id": "031f025d-84dc-470f-b839-456a76d9636b",
   "metadata": {},
   "source": [
    "### 1. Numpy"
   ]
  },
  {
   "cell_type": "code",
   "execution_count": 3,
   "id": "8a2c6f8d-e85b-4982-ba6d-77ffdb7d53e8",
   "metadata": {},
   "outputs": [],
   "source": [
    "import numpy as np"
   ]
  },
  {
   "cell_type": "markdown",
   "id": "6ff3559d-5f3e-4540-9a31-bfb9f42a23da",
   "metadata": {},
   "source": [
    "1. Создайте единичную матрицу размером 3х3"
   ]
  },
  {
   "cell_type": "code",
   "execution_count": 4,
   "id": "752bc586-1e3f-4085-85c3-4068b781314f",
   "metadata": {},
   "outputs": [
    {
     "name": "stdout",
     "output_type": "stream",
     "text": [
      "[[1. 0. 0.]\n",
      " [0. 1. 0.]\n",
      " [0. 0. 1.]]\n"
     ]
    }
   ],
   "source": [
    "matrix1 = np.eye(3)\n",
    "print(matrix1)"
   ]
  },
  {
   "cell_type": "markdown",
   "id": "0243a0f6-1905-4e2d-9572-9ba49dc003a8",
   "metadata": {},
   "source": [
    "2. Создайте матрицу 5х5 со значениями 1, 2, 3, 4 ниже диагонали"
   ]
  },
  {
   "cell_type": "code",
   "execution_count": 5,
   "id": "ec6ae581-5adf-459c-bdc7-8b015d9529f6",
   "metadata": {},
   "outputs": [
    {
     "name": "stdout",
     "output_type": "stream",
     "text": [
      "[[0 0 0 0 0]\n",
      " [1 0 0 0 0]\n",
      " [0 2 0 0 0]\n",
      " [0 0 3 0 0]\n",
      " [0 0 0 4 0]]\n"
     ]
    }
   ],
   "source": [
    "matrix2 = np.array([[0, 0, 0, 0, 0], [1, 0, 0, 0, 0], [0, 2, 0, 0, 0], [0, 0, 3, 0, 0], [0, 0, 0, 4, 0]])\n",
    "print(matrix2)"
   ]
  },
  {
   "cell_type": "markdown",
   "id": "8c7d3811-a555-4c02-ada8-e4a70b9dee46",
   "metadata": {},
   "source": [
    "3. Какой выход будет у данного скрипта\n",
    "\n",
    "```python\n",
    "# Author: Jake VanderPlas\n",
    "\n",
    "print(sum(range(5),-1))\n",
    "from numpy import *\n",
    "print(sum(range(5),-1))\n",
    "```"
   ]
  },
  {
   "cell_type": "code",
   "execution_count": 6,
   "id": "12d0ed34-908c-4840-8b81-457e64dd7b0b",
   "metadata": {},
   "outputs": [
    {
     "name": "stdout",
     "output_type": "stream",
     "text": [
      "9\n",
      "10\n"
     ]
    }
   ],
   "source": [
    "print(sum(range(5), -1))\n",
    "from numpy import *\n",
    "print(sum(range(5), -1))"
   ]
  },
  {
   "cell_type": "markdown",
   "id": "b7ca56e6-a194-4c42-b8a2-307fcf40f648",
   "metadata": {},
   "source": [
    "4. Как найти самое часто встречаемое значение между двумя массивами? "
   ]
  },
  {
   "cell_type": "code",
   "execution_count": 7,
   "id": "1b1d64cd-0e28-400f-8d49-a1274947e150",
   "metadata": {},
   "outputs": [
    {
     "name": "stdout",
     "output_type": "stream",
     "text": [
      "3\n"
     ]
    }
   ],
   "source": [
    "arr1 = np.array([3, 4, 3, 2])\n",
    "arr2 = np.array([1, 4, 3, 3])\n",
    "\n",
    "arr12 = np.concatenate([arr1, arr2])\n",
    "counts = np.bincount(arr12)\n",
    "print(np.argmax(counts))"
   ]
  },
  {
   "cell_type": "markdown",
   "id": "b3b2cd1e-e996-45e0-b9ed-e12ce653a9c3",
   "metadata": {},
   "source": [
    "5. Как игнорировать все warnings в numpy(не нужно так делать, но покажи)?"
   ]
  },
  {
   "cell_type": "code",
   "execution_count": 97,
   "id": "c40ef785-d750-42ba-ac6e-b777866202a6",
   "metadata": {},
   "outputs": [
    {
     "data": {
      "text/plain": [
       "{'divide': 'warn', 'over': 'warn', 'under': 'ignore', 'invalid': 'warn'}"
      ]
     },
     "execution_count": 97,
     "metadata": {},
     "output_type": "execute_result"
    }
   ],
   "source": [
    "np.seterr(all=\"ignore\")"
   ]
  },
  {
   "cell_type": "markdown",
   "id": "8108b3a8-5ba8-472d-ad6b-095ade8678ef",
   "metadata": {},
   "source": [
    "6. Реализуем функцию-генератор, которая генерирует 10 целых чисел и используем ее для построения массива"
   ]
  },
  {
   "cell_type": "code",
   "execution_count": 92,
   "id": "89b58c0a-bd5d-435a-be45-719fdfce662a",
   "metadata": {},
   "outputs": [],
   "source": [
    "def intGenerator (array):\n",
    "    for i in range (10):\n",
    "        array.append(np.random.randint(0, 100))\n",
    "\n",
    "array = [0.0]"
   ]
  },
  {
   "cell_type": "markdown",
   "id": "98511652-db85-4506-a5b8-f94b05d35ce9",
   "metadata": {},
   "source": [
    "7. Создайте массив случайных чисел размером 10 и отсортируйте его"
   ]
  },
  {
   "cell_type": "code",
   "execution_count": 93,
   "id": "ca72cdb0-ed24-460d-81a9-220b850d62c3",
   "metadata": {},
   "outputs": [
    {
     "name": "stdout",
     "output_type": "stream",
     "text": [
      "[0.0, 46, 86, 55, 77, 52, 78, 87, 61, 39, 22]\n",
      "[ 0. 22. 39. 46. 52. 55. 61. 77. 78. 86. 87.]\n"
     ]
    }
   ],
   "source": [
    "intGenerator(array)\n",
    "print(array)\n",
    "\n",
    "print(np.sort(array))"
   ]
  },
  {
   "cell_type": "markdown",
   "id": "1412a70a-2a1e-406e-a227-afc9a47ed659",
   "metadata": {},
   "source": [
    "8. Создайте случайную матрицу 10х2 которая представляет собой декартовые координаты и преобразуйте их в полярные"
   ]
  },
  {
   "cell_type": "code",
   "execution_count": 77,
   "id": "22bb8bbf-52dd-4d3c-86c0-c4e9637b909b",
   "metadata": {},
   "outputs": [
    {
     "name": "stdout",
     "output_type": "stream",
     "text": [
      "[[ 0.  7. 49. 17. 90. 35. 57. 11.  1. 60. 71.]\n",
      " [ 0. 74. 80. 49. 46.  0. 72. 92. 63. 64. 23.]]\n",
      "----------------------\n"
     ]
    },
    {
     "data": {
      "text/plain": [
       "array([[  0.        ,  74.33034374,  93.81364506,  51.86520992,\n",
       "        101.07423015,  35.        ,  91.83136719,  92.65527508,\n",
       "         63.00793601,  87.7268488 ,  71.        ],\n",
       "       [         nan,   1.47648238,   1.02123631,   1.23685125,\n",
       "          0.47249694,   0.        ,   0.90115738,   1.45179603,\n",
       "          1.55492464,   0.81764505,  23.        ]])"
      ]
     },
     "execution_count": 77,
     "metadata": {},
     "output_type": "execute_result"
    }
   ],
   "source": [
    "x_arr = [0.0]\n",
    "y_arr = [0.0]\n",
    "p = 0.0\n",
    "intGenerator(x_arr)\n",
    "intGenerator(y_arr)\n",
    "\n",
    "array2d = np.array([x_arr, y_arr])\n",
    "print(array2d)\n",
    "\n",
    "for i in range (10):\n",
    "    p = np.sqrt(np.square(x_arr[i]) + np.square(y_arr[i]))\n",
    "    phi = np.arccos(x_arr[i] / p)\n",
    "    array2d[0][i] = p\n",
    "    array2d[1][i] = phi\n",
    "\n",
    "print(\"----------------------\")\n",
    "array2d"
   ]
  },
  {
   "cell_type": "markdown",
   "id": "f7dc66bf-f7c8-4d78-834b-451651f6839a",
   "metadata": {},
   "source": [
    "9. Создайте структурированный массив который будет описывать пиксель(координату x, y и цвет r,g,b)"
   ]
  },
  {
   "cell_type": "code",
   "execution_count": null,
   "id": "0ecf5586-d30e-4256-ab93-7ff9bab0b34b",
   "metadata": {},
   "outputs": [],
   "source": [
    "struct_arr = np.array[[\"x\"],[\"y\"],[\"r\"],[\"g\"],[\"b\"]]"
   ]
  },
  {
   "cell_type": "markdown",
   "id": "a66194f1-0099-4808-8ebf-5cf10eee5071",
   "metadata": {},
   "source": [
    "10. Как конвертировать тип массив от float32 в int32 in place?"
   ]
  },
  {
   "cell_type": "code",
   "execution_count": 79,
   "id": "07ed452c-3f7c-40a7-a5b5-716602a5eed9",
   "metadata": {},
   "outputs": [
    {
     "name": "stdout",
     "output_type": "stream",
     "text": [
      "[0.88864748 0.47362801 0.46604493 0.85422514 0.67366945 0.4568467\n",
      " 0.30421386 0.30041734 0.24720321 0.37339495]\n"
     ]
    },
    {
     "data": {
      "text/plain": [
       "array([0, 0, 0, 0, 0, 0, 0, 0, 0, 0], dtype=int32)"
      ]
     },
     "execution_count": 79,
     "metadata": {},
     "output_type": "execute_result"
    }
   ],
   "source": [
    "int_arr = np.random.random((10))\n",
    "print(int_arr)\n",
    "int_arr.astype(\"int32\")"
   ]
  },
  {
   "cell_type": "markdown",
   "id": "5bd0f757-bb01-4afb-b4f0-6821b5c5b2b7",
   "metadata": {},
   "source": [
    "### 2. Pandas"
   ]
  },
  {
   "cell_type": "markdown",
   "id": "bdffd013-e573-4318-8062-65ae1c5e07e8",
   "metadata": {},
   "source": [
    "Найдите ответы на вопросы или выполните действия с предложенным датасетом \n",
    "\n",
    "Набор данных описывает эффективность учеников в зависимости от некоторых факторов влияющих на обучение и окружение человека.\n",
    "\n",
    "Файл: `student_perfomance.csv`\n",
    "\n",
    "```\n",
    "Hours_Studied - количество часов затраченное на обучение в неделю\n",
    "Attendance - поцент посещенных занятий\n",
    "Parental_Involvement - уровень участия родителей в обучении учащегося\n",
    "Access_to_Resources - доступность ресурсов для обучения\n",
    "Extracurricular_Activities - участие во внеклассных мероприятиях\n",
    "Sleep_Hours - количество часов выделяемое на сон в день\n",
    "Previous_Scores - оценка за первый экзамен\n",
    "Motivation_Level - уровень мотивации\n",
    "Internet_Access - доступ к интернету\n",
    "Tutoring_Sessions - количество посещаемых репетиторских занятий в месяц.\n",
    "Family_Income - доход семьи\n",
    "Teacher_Quality - насколько качественно преподает учитель\n",
    "School_Type - тип школы(частная, обычная)\n",
    "Peer_Influence - влияние сверстников\n",
    "Physical_Activity - физическая активность\n",
    "Learning_Disabilities - наличие проблем с обучаемостью\n",
    "Parental_Education_Level - уровень образования родителей\n",
    "Distance_from_Home - дистанция от дома до школы\n",
    "Gender - пол\n",
    "Exam_Score - оценка на конечном экзамене\n",
    "```"
   ]
  },
  {
   "cell_type": "code",
   "execution_count": 83,
   "id": "0778ec2b-a7b2-4738-b771-bb1781986f62",
   "metadata": {},
   "outputs": [],
   "source": [
    "import pandas as pd"
   ]
  },
  {
   "cell_type": "code",
   "execution_count": 84,
   "id": "bfc45614-d44b-49bd-a55c-c410a95a808f",
   "metadata": {},
   "outputs": [],
   "source": [
    "data = pd.read_csv('student_perfomance.csv')"
   ]
  },
  {
   "cell_type": "markdown",
   "id": "1026e8c6-513a-41e3-b2f4-68aae18b8435",
   "metadata": {},
   "source": [
    "1. Посчитайте среднее кол-во часов уделяемое на сон студентами"
   ]
  },
  {
   "cell_type": "code",
   "execution_count": 87,
   "id": "e74655aa-b97c-42e5-b972-e0753ddc2331",
   "metadata": {},
   "outputs": [
    {
     "name": "stdout",
     "output_type": "stream",
     "text": [
      "7.029060087785682\n"
     ]
    }
   ],
   "source": [
    "arr = np.zeros((6607))\n",
    "\n",
    "for i in range(0, 6607):\n",
    "    arr[i] = data.at[i, 'Sleep_Hours']\n",
    "\n",
    "print(np.average(arr))"
   ]
  },
  {
   "cell_type": "markdown",
   "id": "eee028a5-9311-4a4f-b4ac-1fb75acfb4b3",
   "metadata": {},
   "source": [
    "2. Сколько процентов студентов посещают внеклассовые активности?"
   ]
  },
  {
   "cell_type": "code",
   "execution_count": 90,
   "id": "ac0fb641-96d2-4e7c-88d5-636ce3b699d2",
   "metadata": {},
   "outputs": [
    {
     "name": "stdout",
     "output_type": "stream",
     "text": [
      "59.60345088542455\n"
     ]
    }
   ],
   "source": [
    "c = 0\n",
    "for i in range(0, 6607):\n",
    "    if data.at[i, 'Extracurricular_Activities'] == \"Yes\":\n",
    "        c += 1\n",
    "print(c / 6607 * 100)\n"
   ]
  },
  {
   "cell_type": "markdown",
   "id": "cd7979ba-2fa8-4fd3-986d-26cee122da1f",
   "metadata": {},
   "source": [
    "3. Правда ли, что в среднем девушки сдают экзамены лучше, чем мужчины"
   ]
  },
  {
   "cell_type": "code",
   "execution_count": 102,
   "id": "3915f77b-116c-482b-8644-2f5f11931af9",
   "metadata": {},
   "outputs": [
    {
     "name": "stdout",
     "output_type": "stream",
     "text": [
      "False\n"
     ]
    }
   ],
   "source": [
    "arr_male = np.zeros((6607))\n",
    "arr_female = np.zeros((6607))\n",
    "\n",
    "for i in range(0, 6607):\n",
    "    if data.at[i, 'Gender'] == \"Male\":\n",
    "        arr_male[i] = data.at[i, 'Exam_Score']\n",
    "    if data.at[i, 'Gender'] == \"Female\":\n",
    "        arr_female[i] = data.at[i, 'Exam_Score']\n",
    "\n",
    "if np.average(arr_female) > np.average(arr_male):\n",
    "    print(True)\n",
    "else:\n",
    "    print(False)"
   ]
  },
  {
   "cell_type": "markdown",
   "id": "1b69ba67-61a8-4765-9795-cfab1a09e929",
   "metadata": {},
   "source": [
    "4. Выведите 25 и 75 перцентили времени сна студентов"
   ]
  },
  {
   "cell_type": "code",
   "execution_count": 110,
   "id": "1228d2e9-fc56-4240-95c6-c98a8b84c016",
   "metadata": {},
   "outputs": [
    {
     "data": {
      "text/html": [
       "<div>\n",
       "<style scoped>\n",
       "    .dataframe tbody tr th:only-of-type {\n",
       "        vertical-align: middle;\n",
       "    }\n",
       "\n",
       "    .dataframe tbody tr th {\n",
       "        vertical-align: top;\n",
       "    }\n",
       "\n",
       "    .dataframe thead th {\n",
       "        text-align: right;\n",
       "    }\n",
       "</style>\n",
       "<table border=\"1\" class=\"dataframe\">\n",
       "  <thead>\n",
       "    <tr style=\"text-align: right;\">\n",
       "      <th></th>\n",
       "      <th>Hours_Studied</th>\n",
       "      <th>Attendance</th>\n",
       "      <th>Sleep_Hours</th>\n",
       "      <th>Previous_Scores</th>\n",
       "      <th>Tutoring_Sessions</th>\n",
       "      <th>Physical_Activity</th>\n",
       "      <th>Exam_Score</th>\n",
       "    </tr>\n",
       "  </thead>\n",
       "  <tbody>\n",
       "    <tr>\n",
       "      <th>count</th>\n",
       "      <td>6607.000000</td>\n",
       "      <td>6607.000000</td>\n",
       "      <td>6607.00000</td>\n",
       "      <td>6607.000000</td>\n",
       "      <td>6607.000000</td>\n",
       "      <td>6607.000000</td>\n",
       "      <td>6607.000000</td>\n",
       "    </tr>\n",
       "    <tr>\n",
       "      <th>mean</th>\n",
       "      <td>19.975329</td>\n",
       "      <td>79.977448</td>\n",
       "      <td>7.02906</td>\n",
       "      <td>75.070531</td>\n",
       "      <td>1.493719</td>\n",
       "      <td>2.967610</td>\n",
       "      <td>67.235659</td>\n",
       "    </tr>\n",
       "    <tr>\n",
       "      <th>std</th>\n",
       "      <td>5.990594</td>\n",
       "      <td>11.547475</td>\n",
       "      <td>1.46812</td>\n",
       "      <td>14.399784</td>\n",
       "      <td>1.230570</td>\n",
       "      <td>1.031231</td>\n",
       "      <td>3.890456</td>\n",
       "    </tr>\n",
       "    <tr>\n",
       "      <th>min</th>\n",
       "      <td>1.000000</td>\n",
       "      <td>60.000000</td>\n",
       "      <td>4.00000</td>\n",
       "      <td>50.000000</td>\n",
       "      <td>0.000000</td>\n",
       "      <td>0.000000</td>\n",
       "      <td>55.000000</td>\n",
       "    </tr>\n",
       "    <tr>\n",
       "      <th>25%</th>\n",
       "      <td>16.000000</td>\n",
       "      <td>70.000000</td>\n",
       "      <td>6.00000</td>\n",
       "      <td>63.000000</td>\n",
       "      <td>1.000000</td>\n",
       "      <td>2.000000</td>\n",
       "      <td>65.000000</td>\n",
       "    </tr>\n",
       "    <tr>\n",
       "      <th>50%</th>\n",
       "      <td>20.000000</td>\n",
       "      <td>80.000000</td>\n",
       "      <td>7.00000</td>\n",
       "      <td>75.000000</td>\n",
       "      <td>1.000000</td>\n",
       "      <td>3.000000</td>\n",
       "      <td>67.000000</td>\n",
       "    </tr>\n",
       "    <tr>\n",
       "      <th>75%</th>\n",
       "      <td>24.000000</td>\n",
       "      <td>90.000000</td>\n",
       "      <td>8.00000</td>\n",
       "      <td>88.000000</td>\n",
       "      <td>2.000000</td>\n",
       "      <td>4.000000</td>\n",
       "      <td>69.000000</td>\n",
       "    </tr>\n",
       "    <tr>\n",
       "      <th>max</th>\n",
       "      <td>44.000000</td>\n",
       "      <td>100.000000</td>\n",
       "      <td>10.00000</td>\n",
       "      <td>100.000000</td>\n",
       "      <td>8.000000</td>\n",
       "      <td>6.000000</td>\n",
       "      <td>101.000000</td>\n",
       "    </tr>\n",
       "  </tbody>\n",
       "</table>\n",
       "</div>"
      ],
      "text/plain": [
       "       Hours_Studied   Attendance  Sleep_Hours  Previous_Scores  \\\n",
       "count    6607.000000  6607.000000   6607.00000      6607.000000   \n",
       "mean       19.975329    79.977448      7.02906        75.070531   \n",
       "std         5.990594    11.547475      1.46812        14.399784   \n",
       "min         1.000000    60.000000      4.00000        50.000000   \n",
       "25%        16.000000    70.000000      6.00000        63.000000   \n",
       "50%        20.000000    80.000000      7.00000        75.000000   \n",
       "75%        24.000000    90.000000      8.00000        88.000000   \n",
       "max        44.000000   100.000000     10.00000       100.000000   \n",
       "\n",
       "       Tutoring_Sessions  Physical_Activity   Exam_Score  \n",
       "count        6607.000000        6607.000000  6607.000000  \n",
       "mean            1.493719           2.967610    67.235659  \n",
       "std             1.230570           1.031231     3.890456  \n",
       "min             0.000000           0.000000    55.000000  \n",
       "25%             1.000000           2.000000    65.000000  \n",
       "50%             1.000000           3.000000    67.000000  \n",
       "75%             2.000000           4.000000    69.000000  \n",
       "max             8.000000           6.000000   101.000000  "
      ]
     },
     "execution_count": 110,
     "metadata": {},
     "output_type": "execute_result"
    }
   ],
   "source": [
    "data.describe(percentiles=[0.25, 0.75])"
   ]
  },
  {
   "cell_type": "markdown",
   "id": "5acec4fd-f740-49a8-a5d8-562d358239c9",
   "metadata": {},
   "source": [
    "5. Правда ли, что те, кто спит больше(75 перцентиль и выше) сдает экзамен лучше, чем студенты с недосыпом(25 перцентиль и меньше)"
   ]
  },
  {
   "cell_type": "code",
   "execution_count": 114,
   "id": "cac8daef-f4e8-4c8b-b7f4-d41a6adf35ed",
   "metadata": {},
   "outputs": [
    {
     "name": "stdout",
     "output_type": "stream",
     "text": [
      "True\n"
     ]
    }
   ],
   "source": [
    "per_25 = data['Sleep_Hours'].quantile(0.25)\n",
    "per_75 = data['Sleep_Hours'].quantile(0.75)\n",
    "\n",
    "arr_25 = np.zeros((6607))\n",
    "arr_75 = np.zeros((6607))\n",
    "\n",
    "for i in range(0, 6607):\n",
    "    if data.at[i, 'Sleep_Hours'] <= data['Sleep_Hours'].quantile(0.25):\n",
    "        arr_25[i] = data.at[i, 'Exam_Score']\n",
    "    if data.at[i, 'Sleep_Hours'] >= data['Sleep_Hours'].quantile(0.75):\n",
    "        arr_75[i] = data.at[i, 'Exam_Score']\n",
    "\n",
    "if np.average(arr_25) < np.average(arr_75):\n",
    "    print(True)\n",
    "else:\n",
    "    print(False)"
   ]
  },
  {
   "cell_type": "markdown",
   "id": "8d6171a9-0f75-4f3e-ac54-95d03d1f70b6",
   "metadata": {},
   "source": [
    "6. Влияет ли физическая активность на результаты экзамена?"
   ]
  },
  {
   "cell_type": "code",
   "execution_count": 150,
   "id": "c64d0892-2fb8-4304-966c-5cbb32b03c0a",
   "metadata": {},
   "outputs": [
    {
     "name": "stdout",
     "output_type": "stream",
     "text": [
      "0\n",
      "67.52173913043478\n",
      "1\n",
      "66.96912114014252\n",
      "2\n",
      "67.18500307314075\n",
      "3\n",
      "67.19607072691552\n",
      "4\n",
      "67.31301587301587\n",
      "5\n",
      "67.6038781163435\n"
     ]
    }
   ],
   "source": [
    "pd.crosstab(data[\"Physical_Activity\"], data[\"Exam_Score\"])\n",
    "for i in range(6):\n",
    "    print(i)\n",
    "    print(data[data[\"Physical_Activity\"] == i][\"Exam_Score\"].mean())"
   ]
  },
  {
   "cell_type": "markdown",
   "id": "d29320f9-aef8-452c-9d61-0afa72dd93b6",
   "metadata": {},
   "source": [
    "7. Правда ли, что слуденты, чьи родители имеют высшее образование, сдают экзамены лучше, чем остальные?"
   ]
  },
  {
   "cell_type": "code",
   "execution_count": 121,
   "id": "d04e1904-f9f3-40bd-abbd-4d53ee9f7bd2",
   "metadata": {},
   "outputs": [
    {
     "name": "stdout",
     "output_type": "stream",
     "text": [
      "False\n"
     ]
    }
   ],
   "source": [
    "arr_grade = np.zeros((6607))\n",
    "arr_degrade = np.zeros((6607))\n",
    "\n",
    "for i in range(0, 6607):\n",
    "    if data.at[i, 'Parental_Education_Level'] == \"Postgraduate\":\n",
    "        arr_grade[i] = data.at[i, 'Exam_Score']\n",
    "    else:\n",
    "        arr_degrade[i] = data.at[i, 'Exam_Score']\n",
    "\n",
    "if np.average(arr_grade) > np.average(arr_degrade):\n",
    "    print(True)\n",
    "else:\n",
    "    print(False)"
   ]
  },
  {
   "cell_type": "markdown",
   "id": "1d447d6e-cfde-411c-9078-cd8f41f02d8b",
   "metadata": {},
   "source": [
    "8. Как влияет участие родителей на результаты экзаменов"
   ]
  },
  {
   "cell_type": "code",
   "execution_count": 163,
   "id": "b30df6b1-5eca-43da-a115-1c1a3cbfd899",
   "metadata": {},
   "outputs": [
    {
     "name": "stdout",
     "output_type": "stream",
     "text": [
      "0\n",
      "66.35826477187734\n",
      "1\n",
      "67.09815585960737\n",
      "2\n",
      "68.09276729559748\n"
     ]
    }
   ],
   "source": [
    "pd.crosstab(data[\"Parental_Involvement\"], data[\"Exam_Score\"])\n",
    "d = {\"Low\": 0, \"Medium\": 1, \"High\": 2}\n",
    "for i in range(3):\n",
    "    print(i)\n",
    "    print(\n",
    "        data[\n",
    "            data[\"Parental_Involvement\"].map(d) == i\n",
    "            ]\n",
    "            [\"Exam_Score\"].mean()\n",
    "        )"
   ]
  },
  {
   "cell_type": "markdown",
   "id": "c41d5d99-65f7-4d17-82ae-971ec959f327",
   "metadata": {},
   "source": [
    "9. Правда ли, что в семьях с доходом больше среднего дети сдают экзамены лучше?"
   ]
  },
  {
   "cell_type": "code",
   "execution_count": 124,
   "id": "275bcc04-659b-4521-a9e5-200a5f4ef674",
   "metadata": {},
   "outputs": [
    {
     "name": "stdout",
     "output_type": "stream",
     "text": [
      "False\n"
     ]
    }
   ],
   "source": [
    "arr_high = np.zeros((6607))\n",
    "arr_low = np.zeros((6607))\n",
    "\n",
    "for i in range(0, 6607):\n",
    "    if data.at[i, 'Family_Income'] == \"High\":\n",
    "        arr_high[i] = data.at[i, 'Exam_Score']\n",
    "    else:\n",
    "        arr_low[i] = data.at[i, 'Exam_Score']\n",
    "\n",
    "if np.average(arr_high) > np.average(arr_low):\n",
    "    print(True)\n",
    "else:\n",
    "    print(False)"
   ]
  },
  {
   "cell_type": "markdown",
   "id": "a1f7a5c0-259c-4837-a5d1-2dfc05e7c13e",
   "metadata": {},
   "source": [
    "10. Посчитайте долю студентов сдавших экзамен на более чем 70 баллов в семьях с доходом ниже 25го перцентиля и отсутствием доступа к интернету"
   ]
  },
  {
   "cell_type": "code",
   "execution_count": 130,
   "id": "a2da4d57-edb4-4179-8bee-3deda6cd00e6",
   "metadata": {},
   "outputs": [
    {
     "name": "stdout",
     "output_type": "stream",
     "text": [
      "0.39352202209777504\n"
     ]
    }
   ],
   "source": [
    "no_rich_smart = 0\n",
    "d = {\"Low\": 0, \"Medium\": 1, \"High\": 2}\n",
    "for i in range (6607):\n",
    "    if data.at[i, 'Exam_Score'] >= 70:\n",
    "\n",
    "        if d[data.at[i, 'Family_Income']] <= data['Family_Income'].map(d).quantile(0.25):\n",
    "            if data.at[i, 'Internet_Access'] == \"No\":\n",
    "                no_rich_smart += 1\n",
    "print(no_rich_smart / 6607 * 100)"
   ]
  },
  {
   "cell_type": "markdown",
   "id": "deb4ca3a-3d8a-4205-bee9-d26fd28638b2",
   "metadata": {},
   "source": [
    "### 3. Визуализация"
   ]
  },
  {
   "cell_type": "markdown",
   "id": "f8941ce1-cbf2-465a-b013-1b84aeb999ef",
   "metadata": {},
   "source": [
    "Используя библиотеки matplotlib/sns/plotly/pandas и набор данных представленный ранее визуализируйте"
   ]
  },
  {
   "cell_type": "markdown",
   "id": "5e98ce6f-8d02-4120-ad85-241494c038d6",
   "metadata": {},
   "source": [
    "1. Правда ли, что количество часов затрачиваемых на сон распределено примерно нормально?"
   ]
  },
  {
   "cell_type": "code",
   "execution_count": null,
   "id": "10ef4382",
   "metadata": {},
   "outputs": [],
   "source": [
    "import matplotlib as mp\n",
    "import seaborn as sns\n",
    "import plotly as pt\n",
    "import pandas as pd"
   ]
  },
  {
   "cell_type": "code",
   "execution_count": null,
   "id": "664666b2-17b7-49dd-a3bd-c4be9361755d",
   "metadata": {},
   "outputs": [],
   "source": []
  },
  {
   "cell_type": "markdown",
   "id": "4c7500bb-36ca-4ea7-bc3c-4f15afbd4c41",
   "metadata": {},
   "source": [
    "2. Постройте гистограмму распределения количества часов затрачиваемых на обучение среди мальчиков и девочек"
   ]
  },
  {
   "cell_type": "code",
   "execution_count": null,
   "id": "7325e7f8-5f00-4a82-8184-7064505f7ccd",
   "metadata": {},
   "outputs": [],
   "source": []
  },
  {
   "cell_type": "markdown",
   "id": "efdd0669-36e0-4708-ac6b-ad0d92881113",
   "metadata": {},
   "source": [
    "3. Как зависит результат конечного экзамена от результата первого экзамена"
   ]
  },
  {
   "cell_type": "code",
   "execution_count": null,
   "id": "7504a170-04a1-4b86-924d-8d46be16fd3c",
   "metadata": {},
   "outputs": [],
   "source": []
  },
  {
   "cell_type": "markdown",
   "id": "b5839a48-e992-45fc-81ee-59cb5aa79dda",
   "metadata": {},
   "source": [
    "4. Постройте box plot отображающий распределение доходов семей детей сдавших экзамены на оценку ниже и выше 50 баллов"
   ]
  },
  {
   "cell_type": "code",
   "execution_count": null,
   "id": "1a942378-45ea-47a0-bac9-488960491613",
   "metadata": {},
   "outputs": [],
   "source": []
  },
  {
   "cell_type": "markdown",
   "id": "d4c97bef-bb64-43cc-a89f-7510174492ec",
   "metadata": {},
   "source": [
    "5. Правда ли, что количество посещаемых занятий с репетитором в месяц напрямую влияет на балл в конечном экзамене?"
   ]
  },
  {
   "cell_type": "code",
   "execution_count": null,
   "id": "a1f444af-3544-432c-8dc6-bb74d4cff272",
   "metadata": {},
   "outputs": [],
   "source": []
  },
  {
   "cell_type": "markdown",
   "id": "16249674-e680-4ab0-a16a-4e98c24202ed",
   "metadata": {},
   "source": [
    "6. Как физическая активность влияет на успеваемость?"
   ]
  },
  {
   "cell_type": "code",
   "execution_count": null,
   "id": "5d1f5e09-3f97-45ad-87f8-c9796cc214db",
   "metadata": {},
   "outputs": [],
   "source": []
  },
  {
   "cell_type": "markdown",
   "id": "16afdeec-8c90-4ed1-a599-e0b1343bbf5c",
   "metadata": {},
   "source": [
    "7. Постройте HeatMap где ось Х - процент посещаемость, Y - количество занятий с репетитором, а Z - балл за итоговый экзамен*\n",
    "\n",
    "\\* Задание на доп. балл"
   ]
  },
  {
   "cell_type": "code",
   "execution_count": null,
   "id": "e10d0cc7-a1ca-4204-a875-b1660e44618d",
   "metadata": {},
   "outputs": [],
   "source": []
  }
 ],
 "metadata": {
  "kernelspec": {
   "display_name": "Python 3 (ipykernel)",
   "language": "python",
   "name": "python3"
  },
  "language_info": {
   "codemirror_mode": {
    "name": "ipython",
    "version": 3
   },
   "file_extension": ".py",
   "mimetype": "text/x-python",
   "name": "python",
   "nbconvert_exporter": "python",
   "pygments_lexer": "ipython3",
   "version": "3.12.3"
  }
 },
 "nbformat": 4,
 "nbformat_minor": 5
}
