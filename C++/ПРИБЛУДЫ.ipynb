{
 "cells": [
  {
   "cell_type": "code",
   "execution_count": null,
   "metadata": {
    "vscode": {
     "languageId": "cpp"
    }
   },
   "outputs": [],
   "source": [
    "using namespace std; //шобы не писать везде std\n",
    "\n",
    "int main () {\n",
    "    setlocale(LC_ALL, \"Russian\"); // Русская локализация консоли для Windows\n",
    "    \n",
    "    return 0;\n",
    "}"
   ]
  }
 ],
 "metadata": {
  "language_info": {
   "name": "python"
  }
 },
 "nbformat": 4,
 "nbformat_minor": 2
}
