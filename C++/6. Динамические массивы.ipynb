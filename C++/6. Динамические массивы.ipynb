{
 "cells": [
  {
   "cell_type": "markdown",
   "metadata": {},
   "source": [
    "# Динамическая память"
   ]
  },
  {
   "cell_type": "markdown",
   "metadata": {},
   "source": [
    "**В стиле Си:**"
   ]
  },
  {
   "cell_type": "code",
   "execution_count": null,
   "metadata": {
    "vscode": {
     "languageId": "c"
    }
   },
   "outputs": [],
   "source": [
    "void * malloc (size_t size);    // Выделяет область памяти размера >= size\n",
    "void free (void * pit);         // Освобождает области памяти, ранее выделенную под malloc/realloc/calloc\n",
    "void * calloc (size_t nmemb, size_t size);  // Выделяет массив из nmemb размера size\n",
    "void * realloc (void * ptr, size_t size);   // Изменяет размер области памяти по указателю ptr на size"
   ]
  },
  {
   "cell_type": "markdown",
   "metadata": {},
   "source": [
    "*size_t* - специальный целочисленный беззнаковый тип, может вместить в себя размер любого типа в байтах. Используется для указания размеров типов данных, для индексации массивов и т.д."
   ]
  },
  {
   "cell_type": "markdown",
   "metadata": {},
   "source": [
    "*void* * - указатель на нетипизированную память (вместо *char* *)"
   ]
  },
  {
   "cell_type": "markdown",
   "metadata": {},
   "source": [
    "**Пример выделения памяти**"
   ]
  },
  {
   "cell_type": "code",
   "execution_count": null,
   "metadata": {
    "vscode": {
     "languageId": "c"
    }
   },
   "outputs": [],
   "source": [
    "// Создание массива из 1000 int\n",
    "int * m = (int  *)malloc(1000 * sizeof(int));\n",
    "m[10] = 10;\n",
    "\n",
    "// Изменение размера массива до 2000\n",
    "m = (int *)realloc(m, 2000 * sizeof(int));\n",
    "\n",
    "// Освобождение массива\n",
    "free(m);\n",
    "\n",
    "// Создание массива нулей\n",
    "m = (int *)calloc(3000, sizeof(int));\n",
    "\n",
    "free(m);\n",
    "m = 0;"
   ]
  },
  {
   "cell_type": "markdown",
   "metadata": {},
   "source": [
    "**В стиле С++**"
   ]
  },
  {
   "cell_type": "markdown",
   "metadata": {},
   "source": [
    "Язык С++ предоставляет два набора операторов для выделения памяти:\n",
    "\n",
    "*new* и *delete* - для одиночных значений.\n",
    "\n",
    "*new []* и *delete []* - для массивов"
   ]
  },
  {
   "cell_type": "code",
   "execution_count": null,
   "metadata": {
    "vscode": {
     "languageId": "cpp"
    }
   },
   "outputs": [],
   "source": [
    "// Выделение памяти под один int со значением 5\n",
    "int * m = new int(5);\n",
    "*m = 2; // замена 5 на 2\n",
    "delete m; // Освобождение памяти\n",
    "\n",
    "// Создание массива значений типа int\n",
    "int * g = new int[1000];\n",
    "g[0] = 123; // Добавление 123 в первый элемент массива\n",
    "delete [] g; // Освобождение памяти"
   ]
  },
  {
   "cell_type": "markdown",
   "metadata": {},
   "source": [
    "Если мы имеем огромный динамический массив, который не помещается в нашу память (тобишь выдает ошибку при запуске), но нам очень нужно его обработать, то используем **std::nothrow**.\n",
    "\n",
    "Он говорит компилятору, что ничего особенного, все будет хорошо"
   ]
  },
  {
   "cell_type": "code",
   "execution_count": null,
   "metadata": {
    "vscode": {
     "languageId": "cpp"
    }
   },
   "outputs": [],
   "source": [
    "for(size_t i{0} ; i < 10 ; ++i){\n",
    "   \n",
    "        int * data = new(std::nothrow) int[100000000000000];\n",
    "\n",
    "        if(data!=nullptr){\n",
    "            std::cout << \"Data allocated\" << std::endl;\n",
    "        }else{\n",
    "            std::cout << \"Data allocation failed\" << std::endl;\n",
    "        }\n",
    "       \n",
    "    }"
   ]
  }
 ],
 "metadata": {
  "language_info": {
   "name": "python"
  },
  "orig_nbformat": 4
 },
 "nbformat": 4,
 "nbformat_minor": 2
}
