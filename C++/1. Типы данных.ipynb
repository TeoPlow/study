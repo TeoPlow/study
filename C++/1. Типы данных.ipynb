{
 "cells": [
  {
   "cell_type": "code",
   "execution_count": null,
   "metadata": {
    "vscode": {
     "languageId": "cpp"
    }
   },
   "outputs": [],
   "source": []
  },
  {
   "cell_type": "markdown",
   "metadata": {},
   "source": [
    "Целые числа"
   ]
  },
  {
   "cell_type": "code",
   "execution_count": null,
   "metadata": {
    "vscode": {
     "languageId": "cpp"
    }
   },
   "outputs": [],
   "source": [
    "short int A = -100; //от -32 768 до 32 767\n",
    "unsigned short int B = 40000; //от 0 до 65 535\n",
    "int С = 123; //от -2 млрд. до 2 млрд.\n",
    "unsigned int D = 1; //от 0 до 4 млрд\n",
    "long int E = 9999; //+- ОЧЕНЬ БОЛЬШОЕ ЧИСЛО\n",
    "unsigned long int F = 464; //от 0 до СУПЕР БОЛЬШОЕ ЧИСЛО"
   ]
  },
  {
   "cell_type": "markdown",
   "metadata": {},
   "source": [
    "Числа с точкой"
   ]
  },
  {
   "cell_type": "code",
   "execution_count": null,
   "metadata": {
    "vscode": {
     "languageId": "cpp"
    }
   },
   "outputs": [],
   "source": [
    "float A = 1.001; //от -3.4*10^38 до 3.4*10^38\n",
    "double B = 0.9999; //от ±4.9*10^-324 до ±1.8*10^308\n",
    "(long float == double)"
   ]
  },
  {
   "cell_type": "markdown",
   "metadata": {},
   "source": [
    "Прочие типы данных"
   ]
  },
  {
   "cell_type": "code",
   "execution_count": null,
   "metadata": {
    "vscode": {
     "languageId": "cpp"
    }
   },
   "outputs": [],
   "source": [
    "bool A = true; //либо true, либо false\n",
    "char B = 'f'; /*тип данных для работы с символами.\n",
    "Позволяет поместить в одинарных кавычках какой-либо символ.*/"
   ]
  }
 ],
 "metadata": {
  "language_info": {
   "name": "python"
  }
 },
 "nbformat": 4,
 "nbformat_minor": 2
}
