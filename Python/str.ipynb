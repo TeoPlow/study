{
 "cells": [
  {
   "cell_type": "markdown",
   "metadata": {},
   "source": [
    "*Для обработки строк:*"
   ]
  },
  {
   "cell_type": "code",
   "execution_count": 2,
   "metadata": {},
   "outputs": [
    {
     "name": "stdout",
     "output_type": "stream",
     "text": [
      "Арбуз Дыня Манго\n"
     ]
    }
   ],
   "source": [
    "# Преобразует первый символ строки в верхний регистр и переводит в нижний регистр все остальные символы, если таковые имеются.\n",
    "\n",
    "watermelon = 'арбуз'\n",
    "melon = 'дЫнЯ'\n",
    "mango = 'МАНГО'\n",
    "\n",
    "print(watermelon.capitalize(), melon.capitalize(), mango.capitalize())"
   ]
  }
 ],
 "metadata": {
  "kernelspec": {
   "display_name": "Python 3",
   "language": "python",
   "name": "python3"
  },
  "language_info": {
   "codemirror_mode": {
    "name": "ipython",
    "version": 3
   },
   "file_extension": ".py",
   "mimetype": "text/x-python",
   "name": "python",
   "nbconvert_exporter": "python",
   "pygments_lexer": "ipython3",
   "version": "3.12.2"
  }
 },
 "nbformat": 4,
 "nbformat_minor": 2
}
